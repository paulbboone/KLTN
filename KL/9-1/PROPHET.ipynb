{
 "cells": [
  {
   "cell_type": "code",
   "execution_count": 95,
   "metadata": {},
   "outputs": [
    {
     "name": "stdout",
     "output_type": "stream",
     "text": [
      "[*********************100%***********************]  1 of 1 completed\n",
      "\n",
      "1 Failed download:\n",
      "- BTC-USD: No data found for this date range, symbol may be delisted\n",
      "Empty DataFrame\n",
      "Columns: [Open, High, Low, Close, Adj Close, Volume]\n",
      "Index: []\n"
     ]
    }
   ],
   "source": [
    "import yfinance as yf\n",
    "gold = yf.download('BTC-USD', '2022-03-01', '2024-03-01', auto_adjust=True)\n",
    "\n",
    "print(gold)"
   ]
  },
  {
   "cell_type": "markdown",
   "metadata": {},
   "source": [
    "Chuyển Date thành Timestamp"
   ]
  },
  {
   "cell_type": "code",
   "execution_count": 96,
   "metadata": {},
   "outputs": [
    {
     "name": "stdout",
     "output_type": "stream",
     "text": [
      "Empty DataFrame\n",
      "Columns: [Open, High, Low, Close, Adj Close, Volume, Date]\n",
      "Index: []\n"
     ]
    }
   ],
   "source": [
    "\n",
    "gold['Date'] = gold.index\n",
    "gold.set_index('Date')\n",
    "print(gold)"
   ]
  },
  {
   "cell_type": "markdown",
   "metadata": {},
   "source": [
    "Tạo thêm các cột MA7, MA25, MA99"
   ]
  },
  {
   "cell_type": "code",
   "execution_count": 97,
   "metadata": {},
   "outputs": [
    {
     "name": "stdout",
     "output_type": "stream",
     "text": [
      "Empty DataFrame\n",
      "Columns: [Open, High, Low, Close, Adj Close, Volume, Date, MA7, MA25, MA99]\n",
      "Index: []\n"
     ]
    }
   ],
   "source": [
    "# Tính toán và tạo cột cho trung bình động 7 ngày (MA7)\n",
    "gold['MA7'] = gold['Close'].rolling(window=7).mean()\n",
    "\n",
    "# Tính toán và tạo cột cho trung bình động 25 ngày (MA25)\n",
    "gold['MA25'] = gold['Close'].rolling(window=25).mean()\n",
    "\n",
    "# Tính toán và tạo cột cho trung bình động 99 ngày (MA99)\n",
    "gold['MA99'] = gold['Close'].rolling(window=99).mean()\n",
    "\n",
    "# In ra DataFrame để kiểm tra kết quả\n",
    "print(gold)\n"
   ]
  },
  {
   "cell_type": "code",
   "execution_count": 98,
   "metadata": {},
   "outputs": [
    {
     "name": "stdout",
     "output_type": "stream",
     "text": [
      "Empty DataFrame\n",
      "Columns: [Open, High, Low, Close, Adj Close, Volume, Date, MA7, MA25, MA99]\n",
      "Index: []\n"
     ]
    }
   ],
   "source": [
    "# Thay thế các giá trị NaN bằng 0\n",
    "gold.fillna(0, inplace=True)\n",
    "\n",
    "# In ra DataFrame để kiểm tra kết quả\n",
    "print(gold)\n"
   ]
  },
  {
   "cell_type": "markdown",
   "metadata": {},
   "source": [
    "Chia tập train và tập test"
   ]
  },
  {
   "cell_type": "code",
   "execution_count": null,
   "metadata": {},
   "outputs": [],
   "source": []
  },
  {
   "cell_type": "markdown",
   "metadata": {},
   "source": [
    "Mô hình PROPHET"
   ]
  },
  {
   "cell_type": "code",
   "execution_count": 99,
   "metadata": {},
   "outputs": [],
   "source": [
    "# !conda install libpython m2w64-toolchain -c msys2"
   ]
  },
  {
   "cell_type": "code",
   "execution_count": 100,
   "metadata": {},
   "outputs": [],
   "source": [
    "# !pip install --upgrade wheel"
   ]
  },
  {
   "cell_type": "code",
   "execution_count": 101,
   "metadata": {},
   "outputs": [],
   "source": [
    "# !pip install pystan"
   ]
  },
  {
   "cell_type": "code",
   "execution_count": 102,
   "metadata": {},
   "outputs": [],
   "source": [
    "# !conda install -c conda-forge prophet"
   ]
  },
  {
   "cell_type": "code",
   "execution_count": 103,
   "metadata": {},
   "outputs": [
    {
     "name": "stdout",
     "output_type": "stream",
     "text": [
      "Empty DataFrame\n",
      "Columns: [Open, High, Low, Close, Adj Close, Volume, Date, MA7, MA25, MA99]\n",
      "Index: []\n"
     ]
    }
   ],
   "source": [
    "import pandas as pd\n",
    "from prophet import Prophet\n",
    "import numpy as np\n",
    "import matplotlib.pyplot as plt\n",
    "df = gold\n",
    "def calculate_ma(df, window, name):\n",
    "  \n",
    "    return df[name].rolling(window=window).mean().fillna(0)\n",
    "\n",
    "def calculate_boll(df, window):\n",
    "    sma = df['Close'].rolling(window=window).mean().fillna(0)\n",
    "    rolling_std = df['Close'].rolling(window=window).std().fillna(0)\n",
    "    upper_band = sma + (2 * rolling_std)\n",
    "    lower_band = sma - (2 * rolling_std)\n",
    "    return upper_band, lower_band\n",
    "\n",
    "\n",
    "\n",
    "def calculate_kd(df, window_slow, window_fast):\n",
    "    low_min = df['Low'].rolling(window=window_slow).min()\n",
    "    high_max = df['High'].rolling(window=window_slow).max()\n",
    "    k = 100 * ((df['Close'] - low_min) / (high_max - low_min))\n",
    "    d = k.rolling(window=window_fast).mean().fillna(0)\n",
    "    return k, d\n",
    "\n",
    "def calculate_sar(df, acceleration=0.02, maximum=0.2):\n",
    "    high = df['High']\n",
    "    low = df['Low']\n",
    "    close = df['Close']\n",
    "    sar = pd.Series(index=df.index)\n",
    "    sar[0] = low[0]\n",
    "    trend = 0\n",
    "    ep = 0\n",
    "    af = acceleration\n",
    "    for i in range(1, len(df)):\n",
    "        if trend == 0:\n",
    "            if high[i - 1] > high[i] and low[i - 1] > low[i]:\n",
    "                trend = 1\n",
    "                sar[i] = low[i]\n",
    "                ep = high[i]\n",
    "                af = acceleration\n",
    "            elif high[i - 1] < high[i] and low[i - 1] < low[i]:\n",
    "                trend = -1\n",
    "                sar[i] = high[i]\n",
    "                ep = low[i]\n",
    "                af = acceleration\n",
    "        else:\n",
    "            if trend == 1:\n",
    "                if high[i] > ep:\n",
    "                    sar[i] = sar[i - 1] + af * (ep - sar[i - 1])\n",
    "                    sar[i] = min(sar[i], low[i - 1])\n",
    "                    ep = high[i]\n",
    "                    af = min(af + acceleration, maximum)\n",
    "                else:\n",
    "                    trend = -1\n",
    "                    sar[i] = ep\n",
    "                    sar[i] = min(sar[i], low[i - 1])\n",
    "                    sar[i] = min(sar[i], low[i])\n",
    "                    ep = low[i]\n",
    "                    af = acceleration\n",
    "            elif trend == -1:\n",
    "                if low[i] < ep:\n",
    "                    sar[i] = sar[i - 1] + af * (ep - sar[i - 1])\n",
    "                    sar[i] = max(sar[i], high[i - 1])\n",
    "                    ep = low[i]\n",
    "                    af = min(af + acceleration, maximum)\n",
    "                else:\n",
    "                    trend = 1\n",
    "                    sar[i] = ep\n",
    "                    sar[i] = max(sar[i], high[i - 1])\n",
    "                    sar[i] = max(sar[i], high[i])\n",
    "                    ep = high[i]\n",
    "                    af = acceleration\n",
    "    return sar\n",
    "# Load data\n",
    "# Replace 'your_data.csv' with your own data file\n",
    "df = gold\n",
    "print(df)\n",
    "# Preprocess data (fill missing values, convert types, etc.)\n",
    "# Replace any preprocessing steps here\n"
   ]
  },
  {
   "cell_type": "code",
   "execution_count": 104,
   "metadata": {},
   "outputs": [],
   "source": [
    "\n",
    "# Calculate technical indicators\n",
    "df['MA_50'] = calculate_ma(df, 50,'Close')\n"
   ]
  },
  {
   "cell_type": "code",
   "execution_count": 105,
   "metadata": {},
   "outputs": [
    {
     "name": "stdout",
     "output_type": "stream",
     "text": [
      "Empty DataFrame\n",
      "Columns: [Open, High, Low, Close, Adj Close, Volume, Date, MA7, MA25, MA99, MA_50]\n",
      "Index: []\n"
     ]
    }
   ],
   "source": [
    "upper_band, lower_band = calculate_boll(df, 20)\n",
    "print(df)"
   ]
  },
  {
   "cell_type": "code",
   "execution_count": 106,
   "metadata": {},
   "outputs": [
    {
     "name": "stdout",
     "output_type": "stream",
     "text": [
      "Empty DataFrame\n",
      "Columns: [Open, High, Low, Close, Adj Close, Volume, Date, MA7, MA25, MA99, MA_50, Bollinger_Upper, Bollinger_Lower]\n",
      "Index: []\n"
     ]
    }
   ],
   "source": [
    "df['Bollinger_Upper'] = upper_band\n",
    "df['Bollinger_Lower'] = lower_band\n",
    "k, d = calculate_kd(df, 14, 3)\n",
    "print(df)"
   ]
  },
  {
   "cell_type": "code",
   "execution_count": 107,
   "metadata": {},
   "outputs": [
    {
     "name": "stderr",
     "output_type": "stream",
     "text": [
      "C:\\Users\\My My\\AppData\\Local\\Temp\\ipykernel_26328\\2109818831.py:30: FutureWarning: The default dtype for empty Series will be 'object' instead of 'float64' in a future version. Specify a dtype explicitly to silence this warning.\n",
      "  sar = pd.Series(index=df.index)\n"
     ]
    },
    {
     "ename": "IndexError",
     "evalue": "index 0 is out of bounds for axis 0 with size 0",
     "output_type": "error",
     "traceback": [
      "\u001b[1;31m---------------------------------------------------------------------------\u001b[0m",
      "\u001b[1;31mIndexError\u001b[0m                                Traceback (most recent call last)",
      "\u001b[1;32m~\\AppData\\Local\\Temp\\ipykernel_26328\\338918807.py\u001b[0m in \u001b[0;36m<module>\u001b[1;34m\u001b[0m\n\u001b[0;32m      1\u001b[0m \u001b[0mdf\u001b[0m\u001b[1;33m[\u001b[0m\u001b[1;34m'Stochastic_Oscillator_K'\u001b[0m\u001b[1;33m]\u001b[0m \u001b[1;33m=\u001b[0m \u001b[0mk\u001b[0m\u001b[1;33m\u001b[0m\u001b[1;33m\u001b[0m\u001b[0m\n\u001b[0;32m      2\u001b[0m \u001b[0mdf\u001b[0m\u001b[1;33m[\u001b[0m\u001b[1;34m'Stochastic_Oscillator_D'\u001b[0m\u001b[1;33m]\u001b[0m \u001b[1;33m=\u001b[0m \u001b[0md\u001b[0m\u001b[1;33m\u001b[0m\u001b[1;33m\u001b[0m\u001b[0m\n\u001b[1;32m----> 3\u001b[1;33m \u001b[0mdf\u001b[0m\u001b[1;33m[\u001b[0m\u001b[1;34m'Parabolic_SAR'\u001b[0m\u001b[1;33m]\u001b[0m \u001b[1;33m=\u001b[0m \u001b[0mcalculate_sar\u001b[0m\u001b[1;33m(\u001b[0m\u001b[0mdf\u001b[0m\u001b[1;33m)\u001b[0m\u001b[1;33m\u001b[0m\u001b[1;33m\u001b[0m\u001b[0m\n\u001b[0m\u001b[0;32m      4\u001b[0m \u001b[0mprint\u001b[0m\u001b[1;33m(\u001b[0m\u001b[0mdf\u001b[0m\u001b[1;33m)\u001b[0m\u001b[1;33m\u001b[0m\u001b[1;33m\u001b[0m\u001b[0m\n",
      "\u001b[1;32m~\\AppData\\Local\\Temp\\ipykernel_26328\\2109818831.py\u001b[0m in \u001b[0;36mcalculate_sar\u001b[1;34m(df, acceleration, maximum)\u001b[0m\n\u001b[0;32m     29\u001b[0m     \u001b[0mclose\u001b[0m \u001b[1;33m=\u001b[0m \u001b[0mdf\u001b[0m\u001b[1;33m[\u001b[0m\u001b[1;34m'Close'\u001b[0m\u001b[1;33m]\u001b[0m\u001b[1;33m\u001b[0m\u001b[1;33m\u001b[0m\u001b[0m\n\u001b[0;32m     30\u001b[0m     \u001b[0msar\u001b[0m \u001b[1;33m=\u001b[0m \u001b[0mpd\u001b[0m\u001b[1;33m.\u001b[0m\u001b[0mSeries\u001b[0m\u001b[1;33m(\u001b[0m\u001b[0mindex\u001b[0m\u001b[1;33m=\u001b[0m\u001b[0mdf\u001b[0m\u001b[1;33m.\u001b[0m\u001b[0mindex\u001b[0m\u001b[1;33m)\u001b[0m\u001b[1;33m\u001b[0m\u001b[1;33m\u001b[0m\u001b[0m\n\u001b[1;32m---> 31\u001b[1;33m     \u001b[0msar\u001b[0m\u001b[1;33m[\u001b[0m\u001b[1;36m0\u001b[0m\u001b[1;33m]\u001b[0m \u001b[1;33m=\u001b[0m \u001b[0mlow\u001b[0m\u001b[1;33m[\u001b[0m\u001b[1;36m0\u001b[0m\u001b[1;33m]\u001b[0m\u001b[1;33m\u001b[0m\u001b[1;33m\u001b[0m\u001b[0m\n\u001b[0m\u001b[0;32m     32\u001b[0m     \u001b[0mtrend\u001b[0m \u001b[1;33m=\u001b[0m \u001b[1;36m0\u001b[0m\u001b[1;33m\u001b[0m\u001b[1;33m\u001b[0m\u001b[0m\n\u001b[0;32m     33\u001b[0m     \u001b[0mep\u001b[0m \u001b[1;33m=\u001b[0m \u001b[1;36m0\u001b[0m\u001b[1;33m\u001b[0m\u001b[1;33m\u001b[0m\u001b[0m\n",
      "\u001b[1;32mc:\\anaconda3\\lib\\site-packages\\pandas\\core\\series.py\u001b[0m in \u001b[0;36m__getitem__\u001b[1;34m(self, key)\u001b[0m\n\u001b[0;32m    953\u001b[0m \u001b[1;33m\u001b[0m\u001b[0m\n\u001b[0;32m    954\u001b[0m         \u001b[1;32mif\u001b[0m \u001b[0mis_integer\u001b[0m\u001b[1;33m(\u001b[0m\u001b[0mkey\u001b[0m\u001b[1;33m)\u001b[0m \u001b[1;32mand\u001b[0m \u001b[0mself\u001b[0m\u001b[1;33m.\u001b[0m\u001b[0mindex\u001b[0m\u001b[1;33m.\u001b[0m\u001b[0m_should_fallback_to_positional\u001b[0m\u001b[1;33m:\u001b[0m\u001b[1;33m\u001b[0m\u001b[1;33m\u001b[0m\u001b[0m\n\u001b[1;32m--> 955\u001b[1;33m             \u001b[1;32mreturn\u001b[0m \u001b[0mself\u001b[0m\u001b[1;33m.\u001b[0m\u001b[0m_values\u001b[0m\u001b[1;33m[\u001b[0m\u001b[0mkey\u001b[0m\u001b[1;33m]\u001b[0m\u001b[1;33m\u001b[0m\u001b[1;33m\u001b[0m\u001b[0m\n\u001b[0m\u001b[0;32m    956\u001b[0m \u001b[1;33m\u001b[0m\u001b[0m\n\u001b[0;32m    957\u001b[0m         \u001b[1;32melif\u001b[0m \u001b[0mkey_is_scalar\u001b[0m\u001b[1;33m:\u001b[0m\u001b[1;33m\u001b[0m\u001b[1;33m\u001b[0m\u001b[0m\n",
      "\u001b[1;31mIndexError\u001b[0m: index 0 is out of bounds for axis 0 with size 0"
     ]
    }
   ],
   "source": [
    "df['Stochastic_Oscillator_K'] = k\n",
    "df['Stochastic_Oscillator_D'] = d\n",
    "df['Parabolic_SAR'] = calculate_sar(df)\n",
    "print(df)\n"
   ]
  },
  {
   "cell_type": "code",
   "execution_count": null,
   "metadata": {},
   "outputs": [
    {
     "name": "stdout",
     "output_type": "stream",
     "text": [
      "                   ds         Close             y          MA25           MA7  \\\n",
      "Date                                                                            \n",
      "2022-03-01 2022-03-01  44354.636719  44354.636719      0.000000      0.000000   \n",
      "2022-03-02 2022-03-02  43924.117188  43924.117188      0.000000      0.000000   \n",
      "2022-03-03 2022-03-03  42451.789062  42451.789062      0.000000      0.000000   \n",
      "2022-03-04 2022-03-04  39137.605469  39137.605469      0.000000      0.000000   \n",
      "2022-03-05 2022-03-05  39400.585938  39400.585938      0.000000      0.000000   \n",
      "...               ...           ...           ...           ...           ...   \n",
      "2024-02-25 2024-02-25  51733.238281  51733.238281  48442.764375  51606.351562   \n",
      "2024-02-26 2024-02-26  54522.402344  54522.402344  48900.629531  51998.245536   \n",
      "2024-02-27 2024-02-27  57085.371094  57085.371094  49456.610000  52684.030692   \n",
      "2024-02-28 2024-02-28  62504.789062  62504.789062  50237.111563  54207.689174   \n",
      "2024-02-29 2024-02-29  61198.382812  61198.382812  50981.703594  55621.033482   \n",
      "\n",
      "                    MA99  Parabolic_SAR  \n",
      "Date                                     \n",
      "2022-03-01      0.000000   42952.585938  \n",
      "2022-03-02      0.000000   45077.578125  \n",
      "2022-03-03      0.000000   45077.578125  \n",
      "2022-03-04      0.000000   44951.065000  \n",
      "2022-03-05      0.000000   44582.351959  \n",
      "...                  ...            ...  \n",
      "2024-02-25  43531.138968   50585.445312  \n",
      "2024-02-26  43704.228417   50640.028594  \n",
      "2024-02-27  43902.293205   50897.917425  \n",
      "2024-02-28  44171.899029   51429.111219  \n",
      "2024-02-29  44411.960069   56738.425781  \n",
      "\n",
      "[731 rows x 7 columns]\n"
     ]
    }
   ],
   "source": [
    "df2=df.copy()\n",
    "df2['y']=df2['Close']\n",
    "# Selecting relevant columns (Prophet requires a DataFrame with 'ds' and 'y' columns)\n",
    "df2 = df2[['Date', 'Close','y', 'MA25', 'MA7', 'MA99', 'Parabolic_SAR']].rename(columns={'Date': 'ds'})\n",
    "print(df2)\n",
    "\n"
   ]
  },
  {
   "cell_type": "code",
   "execution_count": null,
   "metadata": {},
   "outputs": [
    {
     "name": "stdout",
     "output_type": "stream",
     "text": [
      "511 220\n"
     ]
    }
   ],
   "source": [
    "X = df2[['ds', 'Close','y', 'MA7', 'MA25', 'MA99', 'Parabolic_SAR']]\n",
    "y = df2['y']\n",
    "\n",
    "# Tạo một điểm chia dữ liệu giả định\n",
    "split_point = int(len(df2) * 0.7)  # 70% là tập huấn luyện\n",
    "\n",
    "# Chia dữ liệu thành tập huấn luyện và tập kiểm tra\n",
    "X_train, X_test = X[:split_point], X[split_point:]\n",
    "y_train, y_test = y[:split_point], y[split_point:]\n",
    "\n",
    "print(len(X_train), len(X_test))\n"
   ]
  },
  {
   "cell_type": "code",
   "execution_count": null,
   "metadata": {},
   "outputs": [
    {
     "name": "stderr",
     "output_type": "stream",
     "text": [
      "17:05:34 - cmdstanpy - INFO - Chain [1] start processing\n",
      "17:05:34 - cmdstanpy - INFO - Chain [1] done processing\n"
     ]
    },
    {
     "data": {
      "text/plain": [
       "<prophet.forecaster.Prophet at 0x1f8fe1bbc40>"
      ]
     },
     "execution_count": 88,
     "metadata": {},
     "output_type": "execute_result"
    }
   ],
   "source": [
    "\n",
    "# Prophet model training\n",
    "prophet_model = Prophet()\n",
    "prophet_model.add_regressor('Parabolic_SAR')\n",
    "prophet_model.fit(df2)\n",
    "\n"
   ]
  },
  {
   "cell_type": "code",
   "execution_count": null,
   "metadata": {},
   "outputs": [
    {
     "name": "stdout",
     "output_type": "stream",
     "text": [
      "                   ds         Close             y           MA7          MA25  \\\n",
      "Date                                                                            \n",
      "2023-07-25 2023-07-25  29227.390625  29227.390625  29696.476004  30241.372891   \n",
      "2023-07-26 2023-07-26  29354.972656  29354.972656  29616.625837  30191.968672   \n",
      "2023-07-27 2023-07-27  29210.689453  29210.689453  29533.579241  30135.565469   \n",
      "2023-07-28 2023-07-28  29319.246094  29319.246094  29449.365234  30062.077734   \n",
      "2023-07-29 2023-07-29  29356.917969  29356.917969  29390.095982  30005.251172   \n",
      "...               ...           ...           ...           ...           ...   \n",
      "2024-02-25 2024-02-25  51733.238281  51733.238281  51606.351562  48442.764375   \n",
      "2024-02-26 2024-02-26  54522.402344  54522.402344  51998.245536  48900.629531   \n",
      "2024-02-27 2024-02-27  57085.371094  57085.371094  52684.030692  49456.610000   \n",
      "2024-02-28 2024-02-28  62504.789062  62504.789062  54207.689174  50237.111563   \n",
      "2024-02-29 2024-02-29  61198.382812  61198.382812  55621.033482  50981.703594   \n",
      "\n",
      "                    MA99  Parabolic_SAR  \n",
      "Date                                     \n",
      "2023-07-25  28415.634292   30093.394531  \n",
      "2023-07-26  28405.103180   29062.433594  \n",
      "2023-07-27  28409.022471   29099.351562  \n",
      "2023-07-28  28419.863459   29560.966797  \n",
      "2023-07-29  28440.873639   29125.845703  \n",
      "...                  ...            ...  \n",
      "2024-02-25  43531.138968   50585.445312  \n",
      "2024-02-26  43704.228417   50640.028594  \n",
      "2024-02-27  43902.293205   50897.917425  \n",
      "2024-02-28  44171.899029   51429.111219  \n",
      "2024-02-29  44411.960069   56738.425781  \n",
      "\n",
      "[220 rows x 7 columns]\n"
     ]
    }
   ],
   "source": [
    "print(X_test)"
   ]
  },
  {
   "cell_type": "code",
   "execution_count": null,
   "metadata": {},
   "outputs": [
    {
     "name": "stdout",
     "output_type": "stream",
     "text": [
      "                   ds         Close             y           MA7          MA25  \\\n",
      "Date                                                                            \n",
      "2023-07-25 2023-07-25  29227.390625  29227.390625  29696.476004  30241.372891   \n",
      "2023-07-26 2023-07-26  29354.972656  29354.972656  29616.625837  30191.968672   \n",
      "2023-07-27 2023-07-27  29210.689453  29210.689453  29533.579241  30135.565469   \n",
      "2023-07-28 2023-07-28  29319.246094  29319.246094  29449.365234  30062.077734   \n",
      "2023-07-29 2023-07-29  29356.917969  29356.917969  29390.095982  30005.251172   \n",
      "...               ...           ...           ...           ...           ...   \n",
      "2024-02-25 2024-02-25  51733.238281  51733.238281  51606.351562  48442.764375   \n",
      "2024-02-26 2024-02-26  54522.402344  54522.402344  51998.245536  48900.629531   \n",
      "2024-02-27 2024-02-27  57085.371094  57085.371094  52684.030692  49456.610000   \n",
      "2024-02-28 2024-02-28  62504.789062  62504.789062  54207.689174  50237.111563   \n",
      "2024-02-29 2024-02-29  61198.382812  61198.382812  55621.033482  50981.703594   \n",
      "\n",
      "                    MA99  Parabolic_SAR  \n",
      "Date                                     \n",
      "2023-07-25  28415.634292   30093.394531  \n",
      "2023-07-26  28405.103180   29062.433594  \n",
      "2023-07-27  28409.022471   29099.351562  \n",
      "2023-07-28  28419.863459   29560.966797  \n",
      "2023-07-29  28440.873639   29125.845703  \n",
      "...                  ...            ...  \n",
      "2024-02-25  43531.138968   50585.445312  \n",
      "2024-02-26  43704.228417   50640.028594  \n",
      "2024-02-27  43902.293205   50897.917425  \n",
      "2024-02-28  44171.899029   51429.111219  \n",
      "2024-02-29  44411.960069   56738.425781  \n",
      "\n",
      "[220 rows x 7 columns]\n"
     ]
    }
   ],
   "source": [
    "\n",
    "# Make predictions\n",
    "print(X_test)"
   ]
  },
  {
   "cell_type": "code",
   "execution_count": null,
   "metadata": {},
   "outputs": [
    {
     "name": "stderr",
     "output_type": "stream",
     "text": [
      "C:\\Users\\My My\\AppData\\Local\\Temp\\ipykernel_26328\\2322332905.py:2: FutureWarning: Argument `closed` is deprecated in favor of `inclusive`.\n",
      "  future_dates = pd.date_range(start=X_test.index[-1], periods=n_days + 1, closed='right')  # Tạo các thời điểm trong khoảng thời gian mới\n"
     ]
    }
   ],
   "source": [
    "n_days = 30  # Số ngày muốn dự báo tiếp theo sau bộ kiểm tra\n",
    "future_dates = pd.date_range(start=X_test.index[-1], periods=n_days + 1, closed='right')  # Tạo các thời điểm trong khoảng thời gian mới\n",
    "\n",
    "# Tạo DataFrame mới cho dự báo với cột 'Parabolic_SAR' được thêm vào\n",
    "future_df = pd.DataFrame({'ds': future_dates, 'Parabolic_SAR': X_test['Parabolic_SAR'][-1] * len(future_dates)})\n",
    "\n",
    "# Sử dụng phương thức predict để dự báo cho các thời điểm mới\n",
    "forecast = prophet_model.predict(future_df)\n"
   ]
  },
  {
   "cell_type": "code",
   "execution_count": null,
   "metadata": {},
   "outputs": [],
   "source": []
  },
  {
   "cell_type": "code",
   "execution_count": null,
   "metadata": {},
   "outputs": [],
   "source": [
    "# forecast = prophet_model.predict(X_test)\n",
    "# # print(X_train)\n",
    "# print(forecast)"
   ]
  },
  {
   "cell_type": "code",
   "execution_count": null,
   "metadata": {},
   "outputs": [
    {
     "data": {
      "image/png": "[encoded data removed]",
      "text/plain": [
       "<Figure size 1000x600 with 1 Axes>"
      ]
     },
     "metadata": {},
     "output_type": "display_data"
    }
   ],
   "source": [
    "# Visualize results\n",
    "prophet_model.plot(forecast)\n",
    "\n",
    "# Plot actual values from y_test\n",
    "plt.plot(forecast['ds'], y_train, label='Actual', color='red')  # Using forecasted dates for plotting\n",
    "\n",
    "# Plot training data\n",
    "plt.plot(X_train.index, y_train, label='Train', color='blue')\n",
    "\n",
    "plt.xlabel('Date')\n",
    "plt.ylabel('Close Price')\n",
    "plt.title('Forecasted Close Price vs Actual Close Price')\n",
    "plt.legend()\n",
    "plt.show()\n"
   ]
  },
  {
   "cell_type": "code",
   "execution_count": null,
   "metadata": {},
   "outputs": [
    {
     "ename": "ValueError",
     "evalue": "Found input variables with inconsistent numbers of samples: [220, 30]",
     "output_type": "error",
     "traceback": [
      "\u001b[1;31m---------------------------------------------------------------------------\u001b[0m",
      "\u001b[1;31mValueError\u001b[0m                                Traceback (most recent call last)",
      "\u001b[1;32m~\\AppData\\Local\\Temp\\ipykernel_26328\\2213071384.py\u001b[0m in \u001b[0;36m<module>\u001b[1;34m\u001b[0m\n\u001b[0;32m      3\u001b[0m \u001b[1;33m\u001b[0m\u001b[0m\n\u001b[0;32m      4\u001b[0m \u001b[1;31m# Calculate Mean Absolute Error (MAE)\u001b[0m\u001b[1;33m\u001b[0m\u001b[1;33m\u001b[0m\u001b[0m\n\u001b[1;32m----> 5\u001b[1;33m \u001b[0mmae\u001b[0m \u001b[1;33m=\u001b[0m \u001b[0mmean_absolute_error\u001b[0m\u001b[1;33m(\u001b[0m\u001b[0my_test\u001b[0m\u001b[1;33m,\u001b[0m \u001b[0mforecast\u001b[0m\u001b[1;33m[\u001b[0m\u001b[1;34m'yhat'\u001b[0m\u001b[1;33m]\u001b[0m\u001b[1;33m)\u001b[0m\u001b[1;33m\u001b[0m\u001b[1;33m\u001b[0m\u001b[0m\n\u001b[0m\u001b[0;32m      6\u001b[0m \u001b[0mprint\u001b[0m\u001b[1;33m(\u001b[0m\u001b[1;34m\"Mean Absolute Error (MAE):\"\u001b[0m\u001b[1;33m,\u001b[0m \u001b[0mmae\u001b[0m\u001b[1;33m)\u001b[0m\u001b[1;33m\u001b[0m\u001b[1;33m\u001b[0m\u001b[0m\n\u001b[0;32m      7\u001b[0m \u001b[1;33m\u001b[0m\u001b[0m\n",
      "\u001b[1;32mc:\\anaconda3\\lib\\site-packages\\sklearn\\metrics\\_regression.py\u001b[0m in \u001b[0;36mmean_absolute_error\u001b[1;34m(y_true, y_pred, sample_weight, multioutput)\u001b[0m\n\u001b[0;32m    189\u001b[0m     \u001b[1;36m0.85\u001b[0m\u001b[1;33m...\u001b[0m\u001b[1;33m\u001b[0m\u001b[1;33m\u001b[0m\u001b[0m\n\u001b[0;32m    190\u001b[0m     \"\"\"\n\u001b[1;32m--> 191\u001b[1;33m     y_type, y_true, y_pred, multioutput = _check_reg_targets(\n\u001b[0m\u001b[0;32m    192\u001b[0m         \u001b[0my_true\u001b[0m\u001b[1;33m,\u001b[0m \u001b[0my_pred\u001b[0m\u001b[1;33m,\u001b[0m \u001b[0mmultioutput\u001b[0m\u001b[1;33m\u001b[0m\u001b[1;33m\u001b[0m\u001b[0m\n\u001b[0;32m    193\u001b[0m     )\n",
      "\u001b[1;32mc:\\anaconda3\\lib\\site-packages\\sklearn\\metrics\\_regression.py\u001b[0m in \u001b[0;36m_check_reg_targets\u001b[1;34m(y_true, y_pred, multioutput, dtype)\u001b[0m\n\u001b[0;32m     92\u001b[0m         \u001b[0mthe\u001b[0m \u001b[0mdtype\u001b[0m \u001b[0margument\u001b[0m \u001b[0mpassed\u001b[0m \u001b[0mto\u001b[0m \u001b[0mcheck_array\u001b[0m\u001b[1;33m.\u001b[0m\u001b[1;33m\u001b[0m\u001b[1;33m\u001b[0m\u001b[0m\n\u001b[0;32m     93\u001b[0m     \"\"\"\n\u001b[1;32m---> 94\u001b[1;33m     \u001b[0mcheck_consistent_length\u001b[0m\u001b[1;33m(\u001b[0m\u001b[0my_true\u001b[0m\u001b[1;33m,\u001b[0m \u001b[0my_pred\u001b[0m\u001b[1;33m)\u001b[0m\u001b[1;33m\u001b[0m\u001b[1;33m\u001b[0m\u001b[0m\n\u001b[0m\u001b[0;32m     95\u001b[0m     \u001b[0my_true\u001b[0m \u001b[1;33m=\u001b[0m \u001b[0mcheck_array\u001b[0m\u001b[1;33m(\u001b[0m\u001b[0my_true\u001b[0m\u001b[1;33m,\u001b[0m \u001b[0mensure_2d\u001b[0m\u001b[1;33m=\u001b[0m\u001b[1;32mFalse\u001b[0m\u001b[1;33m,\u001b[0m \u001b[0mdtype\u001b[0m\u001b[1;33m=\u001b[0m\u001b[0mdtype\u001b[0m\u001b[1;33m)\u001b[0m\u001b[1;33m\u001b[0m\u001b[1;33m\u001b[0m\u001b[0m\n\u001b[0;32m     96\u001b[0m     \u001b[0my_pred\u001b[0m \u001b[1;33m=\u001b[0m \u001b[0mcheck_array\u001b[0m\u001b[1;33m(\u001b[0m\u001b[0my_pred\u001b[0m\u001b[1;33m,\u001b[0m \u001b[0mensure_2d\u001b[0m\u001b[1;33m=\u001b[0m\u001b[1;32mFalse\u001b[0m\u001b[1;33m,\u001b[0m \u001b[0mdtype\u001b[0m\u001b[1;33m=\u001b[0m\u001b[0mdtype\u001b[0m\u001b[1;33m)\u001b[0m\u001b[1;33m\u001b[0m\u001b[1;33m\u001b[0m\u001b[0m\n",
      "\u001b[1;32mc:\\anaconda3\\lib\\site-packages\\sklearn\\utils\\validation.py\u001b[0m in \u001b[0;36mcheck_consistent_length\u001b[1;34m(*arrays)\u001b[0m\n\u001b[0;32m    330\u001b[0m     \u001b[0muniques\u001b[0m \u001b[1;33m=\u001b[0m \u001b[0mnp\u001b[0m\u001b[1;33m.\u001b[0m\u001b[0munique\u001b[0m\u001b[1;33m(\u001b[0m\u001b[0mlengths\u001b[0m\u001b[1;33m)\u001b[0m\u001b[1;33m\u001b[0m\u001b[1;33m\u001b[0m\u001b[0m\n\u001b[0;32m    331\u001b[0m     \u001b[1;32mif\u001b[0m \u001b[0mlen\u001b[0m\u001b[1;33m(\u001b[0m\u001b[0muniques\u001b[0m\u001b[1;33m)\u001b[0m \u001b[1;33m>\u001b[0m \u001b[1;36m1\u001b[0m\u001b[1;33m:\u001b[0m\u001b[1;33m\u001b[0m\u001b[1;33m\u001b[0m\u001b[0m\n\u001b[1;32m--> 332\u001b[1;33m         raise ValueError(\n\u001b[0m\u001b[0;32m    333\u001b[0m             \u001b[1;34m\"Found input variables with inconsistent numbers of samples: %r\"\u001b[0m\u001b[1;33m\u001b[0m\u001b[1;33m\u001b[0m\u001b[0m\n\u001b[0;32m    334\u001b[0m             \u001b[1;33m%\u001b[0m \u001b[1;33m[\u001b[0m\u001b[0mint\u001b[0m\u001b[1;33m(\u001b[0m\u001b[0ml\u001b[0m\u001b[1;33m)\u001b[0m \u001b[1;32mfor\u001b[0m \u001b[0ml\u001b[0m \u001b[1;32min\u001b[0m \u001b[0mlengths\u001b[0m\u001b[1;33m]\u001b[0m\u001b[1;33m\u001b[0m\u001b[1;33m\u001b[0m\u001b[0m\n",
      "\u001b[1;31mValueError\u001b[0m: Found input variables with inconsistent numbers of samples: [220, 30]"
     ]
    }
   ],
   "source": [
    "from sklearn.metrics import mean_absolute_error, mean_squared_error\n",
    "import numpy as np\n",
    "\n",
    "# Calculate Mean Absolute Error (MAE)\n",
    "mae = mean_absolute_error(y_test, forecast['yhat'])\n",
    "print(\"Mean Absolute Error (MAE):\", mae)\n",
    "\n",
    "# Calculate Mean Squared Error (MSE)\n",
    "mse = mean_squared_error(y_test, forecast['yhat'])\n",
    "print(\"Mean Squared Error (MSE):\", mse)\n",
    "\n",
    "# Calculate Root Mean Squared Error (RMSE)\n",
    "rmse = np.sqrt(mse)\n",
    "print(\"Root Mean Squared Error (RMSE):\", rmse)"
   ]
  },
  {
   "cell_type": "code",
   "execution_count": null,
   "metadata": {},
   "outputs": [
    {
     "ename": "NameError",
     "evalue": "name 'r2_score' is not defined",
     "output_type": "error",
     "traceback": [
      "\u001b[1;31m---------------------------------------------------------------------------\u001b[0m",
      "\u001b[1;31mNameError\u001b[0m                                 Traceback (most recent call last)",
      "\u001b[1;32m~\\AppData\\Local\\Temp\\ipykernel_26328\\3968249673.py\u001b[0m in \u001b[0;36m<module>\u001b[1;34m\u001b[0m\n\u001b[0;32m      1\u001b[0m \u001b[0my_true\u001b[0m \u001b[1;33m=\u001b[0m \u001b[0mX_test\u001b[0m\u001b[1;33m[\u001b[0m\u001b[1;34m'y'\u001b[0m\u001b[1;33m]\u001b[0m\u001b[1;33m\u001b[0m\u001b[1;33m\u001b[0m\u001b[0m\n\u001b[0;32m      2\u001b[0m \u001b[0my_pred\u001b[0m \u001b[1;33m=\u001b[0m \u001b[0mforecast\u001b[0m\u001b[1;33m[\u001b[0m\u001b[1;34m'yhat'\u001b[0m\u001b[1;33m]\u001b[0m\u001b[1;33m\u001b[0m\u001b[1;33m\u001b[0m\u001b[0m\n\u001b[1;32m----> 3\u001b[1;33m \u001b[0mr_squared\u001b[0m \u001b[1;33m=\u001b[0m \u001b[0mr2_score\u001b[0m\u001b[1;33m(\u001b[0m\u001b[0my_true\u001b[0m\u001b[1;33m,\u001b[0m \u001b[0my_pred\u001b[0m\u001b[1;33m)\u001b[0m\u001b[1;33m\u001b[0m\u001b[1;33m\u001b[0m\u001b[0m\n\u001b[0m\u001b[0;32m      4\u001b[0m \u001b[1;33m\u001b[0m\u001b[0m\n\u001b[0;32m      5\u001b[0m \u001b[0mprint\u001b[0m\u001b[1;33m(\u001b[0m\u001b[1;34m\"R-squared:\"\u001b[0m\u001b[1;33m,\u001b[0m \u001b[0mr_squared\u001b[0m\u001b[1;33m)\u001b[0m\u001b[1;33m\u001b[0m\u001b[1;33m\u001b[0m\u001b[0m\n",
      "\u001b[1;31mNameError\u001b[0m: name 'r2_score' is not defined"
     ]
    }
   ],
   "source": [
    "y_true = X_test['y']\n",
    "y_pred = forecast['yhat']\n",
    "r_squared = r2_score(y_true, y_pred)\n",
    "\n",
    "print(\"R-squared:\", r_squared)"
   ]
  }
 ],
 "metadata": {
  "kernelspec": {
   "display_name": "base",
   "language": "python",
   "name": "python3"
  },
  "language_info": {
   "codemirror_mode": {
    "name": "ipython",
    "version": 3
   },
   "file_extension": ".py",
   "mimetype": "text/x-python",
   "name": "python",
   "nbconvert_exporter": "python",
   "pygments_lexer": "ipython3",
   "version": "3.9.13"
  },
  "orig_nbformat": 4
 },
 "nbformat": 4,
 "nbformat_minor": 2
}
