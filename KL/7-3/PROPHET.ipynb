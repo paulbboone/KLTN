{
 "cells": [
  {
   "cell_type": "code",
   "execution_count": 129,
   "metadata": {},
   "outputs": [
    {
     "name": "stdout",
     "output_type": "stream",
     "text": [
      "[*********************100%***********************]  1 of 1 completed\n",
      "                   Open         High          Low        Close  Volume\n",
      "Date                                                                  \n",
      "2022-03-01  1908.300049  1942.400024  1903.800049  1942.400024     547\n",
      "2022-03-02  1945.599976  1948.199951  1919.800049  1920.900024     109\n",
      "2022-03-03  1930.500000  1940.300049  1924.800049  1934.400024     122\n",
      "2022-03-04  1937.000000  1970.900024  1935.599976  1965.099976      47\n",
      "2022-03-07  1989.000000  2001.099976  1963.000000  1993.900024    2516\n",
      "...                 ...          ...          ...          ...     ...\n",
      "2024-04-15  2362.100098  2384.699951  2326.000000  2365.800049    1801\n",
      "2024-04-16  2384.000000  2390.800049  2371.399902  2390.800049      41\n",
      "2024-04-17  2384.199951  2391.399902  2369.300049  2371.699951      37\n",
      "2024-04-18  2368.399902  2384.399902  2368.399902  2382.300049     128\n",
      "2024-04-19  2379.300049  2399.800049  2377.300049  2398.399902     128\n",
      "\n",
      "[539 rows x 5 columns]\n"
     ]
    }
   ],
   "source": [
    "import yfinance as yf\n",
    "gold = yf.download('GC=F ', '2022-03-01', '2024-04-20', auto_adjust=True)\n",
    "\n",
    "print(gold)"
   ]
  },
  {
   "cell_type": "markdown",
   "metadata": {},
   "source": [
    "Chuyển Date thành Timestamp"
   ]
  },
  {
   "cell_type": "code",
   "execution_count": 130,
   "metadata": {},
   "outputs": [
    {
     "name": "stdout",
     "output_type": "stream",
     "text": [
      "                   Open         High          Low        Close  Volume  \\\n",
      "Date                                                                     \n",
      "2022-03-01  1908.300049  1942.400024  1903.800049  1942.400024     547   \n",
      "2022-03-02  1945.599976  1948.199951  1919.800049  1920.900024     109   \n",
      "2022-03-03  1930.500000  1940.300049  1924.800049  1934.400024     122   \n",
      "2022-03-04  1937.000000  1970.900024  1935.599976  1965.099976      47   \n",
      "2022-03-07  1989.000000  2001.099976  1963.000000  1993.900024    2516   \n",
      "...                 ...          ...          ...          ...     ...   \n",
      "2024-04-15  2362.100098  2384.699951  2326.000000  2365.800049    1801   \n",
      "2024-04-16  2384.000000  2390.800049  2371.399902  2390.800049      41   \n",
      "2024-04-17  2384.199951  2391.399902  2369.300049  2371.699951      37   \n",
      "2024-04-18  2368.399902  2384.399902  2368.399902  2382.300049     128   \n",
      "2024-04-19  2379.300049  2399.800049  2377.300049  2398.399902     128   \n",
      "\n",
      "                 Date  \n",
      "Date                   \n",
      "2022-03-01 2022-03-01  \n",
      "2022-03-02 2022-03-02  \n",
      "2022-03-03 2022-03-03  \n",
      "2022-03-04 2022-03-04  \n",
      "2022-03-07 2022-03-07  \n",
      "...               ...  \n",
      "2024-04-15 2024-04-15  \n",
      "2024-04-16 2024-04-16  \n",
      "2024-04-17 2024-04-17  \n",
      "2024-04-18 2024-04-18  \n",
      "2024-04-19 2024-04-19  \n",
      "\n",
      "[539 rows x 6 columns]\n"
     ]
    }
   ],
   "source": [
    "\n",
    "gold['Date'] = gold.index\n",
    "gold.set_index('Date')\n",
    "print(gold)"
   ]
  },
  {
   "cell_type": "markdown",
   "metadata": {},
   "source": [
    "Tạo thêm các cột MA7, MA25, MA99"
   ]
  },
  {
   "cell_type": "code",
   "execution_count": 131,
   "metadata": {},
   "outputs": [
    {
     "name": "stdout",
     "output_type": "stream",
     "text": [
      "                   Open         High          Low        Close  Volume  \\\n",
      "Date                                                                     \n",
      "2022-03-01  1908.300049  1942.400024  1903.800049  1942.400024     547   \n",
      "2022-03-02  1945.599976  1948.199951  1919.800049  1920.900024     109   \n",
      "2022-03-03  1930.500000  1940.300049  1924.800049  1934.400024     122   \n",
      "2022-03-04  1937.000000  1970.900024  1935.599976  1965.099976      47   \n",
      "2022-03-07  1989.000000  2001.099976  1963.000000  1993.900024    2516   \n",
      "...                 ...          ...          ...          ...     ...   \n",
      "2024-04-15  2362.100098  2384.699951  2326.000000  2365.800049    1801   \n",
      "2024-04-16  2384.000000  2390.800049  2371.399902  2390.800049      41   \n",
      "2024-04-17  2384.199951  2391.399902  2369.300049  2371.699951      37   \n",
      "2024-04-18  2368.399902  2384.399902  2368.399902  2382.300049     128   \n",
      "2024-04-19  2379.300049  2399.800049  2377.300049  2398.399902     128   \n",
      "\n",
      "                 Date          MA7         MA25         MA99  \n",
      "Date                                                          \n",
      "2022-03-01 2022-03-01          NaN          NaN          NaN  \n",
      "2022-03-02 2022-03-02          NaN          NaN          NaN  \n",
      "2022-03-03 2022-03-03          NaN          NaN          NaN  \n",
      "2022-03-04 2022-03-04          NaN          NaN          NaN  \n",
      "2022-03-07 2022-03-07          NaN          NaN          NaN  \n",
      "...               ...          ...          ...          ...  \n",
      "2024-04-15 2024-04-15  2343.900007  2236.015996  2086.605043  \n",
      "2024-04-16 2024-04-16  2353.200021  2244.347998  2090.639387  \n",
      "2024-04-17 2024-04-17  2358.914307  2252.800000  2094.479791  \n",
      "2024-04-18 2024-04-18  2364.457171  2261.076006  2098.319186  \n",
      "2024-04-19 2024-04-19  2374.285714  2270.492002  2102.224235  \n",
      "\n",
      "[539 rows x 9 columns]\n"
     ]
    }
   ],
   "source": [
    "# Tính toán và tạo cột cho trung bình động 7 ngày (MA7)\n",
    "gold['MA7'] = gold['Close'].rolling(window=7).mean()\n",
    "\n",
    "# Tính toán và tạo cột cho trung bình động 25 ngày (MA25)\n",
    "gold['MA25'] = gold['Close'].rolling(window=25).mean()\n",
    "\n",
    "# Tính toán và tạo cột cho trung bình động 99 ngày (MA99)\n",
    "gold['MA99'] = gold['Close'].rolling(window=99).mean()\n",
    "\n",
    "# In ra DataFrame để kiểm tra kết quả\n",
    "print(gold)\n"
   ]
  },
  {
   "cell_type": "code",
   "execution_count": 132,
   "metadata": {},
   "outputs": [
    {
     "name": "stdout",
     "output_type": "stream",
     "text": [
      "                   Open         High          Low        Close  Volume  \\\n",
      "Date                                                                     \n",
      "2022-03-01  1908.300049  1942.400024  1903.800049  1942.400024     547   \n",
      "2022-03-02  1945.599976  1948.199951  1919.800049  1920.900024     109   \n",
      "2022-03-03  1930.500000  1940.300049  1924.800049  1934.400024     122   \n",
      "2022-03-04  1937.000000  1970.900024  1935.599976  1965.099976      47   \n",
      "2022-03-07  1989.000000  2001.099976  1963.000000  1993.900024    2516   \n",
      "...                 ...          ...          ...          ...     ...   \n",
      "2024-04-15  2362.100098  2384.699951  2326.000000  2365.800049    1801   \n",
      "2024-04-16  2384.000000  2390.800049  2371.399902  2390.800049      41   \n",
      "2024-04-17  2384.199951  2391.399902  2369.300049  2371.699951      37   \n",
      "2024-04-18  2368.399902  2384.399902  2368.399902  2382.300049     128   \n",
      "2024-04-19  2379.300049  2399.800049  2377.300049  2398.399902     128   \n",
      "\n",
      "                 Date          MA7         MA25         MA99  \n",
      "Date                                                          \n",
      "2022-03-01 2022-03-01     0.000000     0.000000     0.000000  \n",
      "2022-03-02 2022-03-02     0.000000     0.000000     0.000000  \n",
      "2022-03-03 2022-03-03     0.000000     0.000000     0.000000  \n",
      "2022-03-04 2022-03-04     0.000000     0.000000     0.000000  \n",
      "2022-03-07 2022-03-07     0.000000     0.000000     0.000000  \n",
      "...               ...          ...          ...          ...  \n",
      "2024-04-15 2024-04-15  2343.900007  2236.015996  2086.605043  \n",
      "2024-04-16 2024-04-16  2353.200021  2244.347998  2090.639387  \n",
      "2024-04-17 2024-04-17  2358.914307  2252.800000  2094.479791  \n",
      "2024-04-18 2024-04-18  2364.457171  2261.076006  2098.319186  \n",
      "2024-04-19 2024-04-19  2374.285714  2270.492002  2102.224235  \n",
      "\n",
      "[539 rows x 9 columns]\n"
     ]
    }
   ],
   "source": [
    "# Thay thế các giá trị NaN bằng 0\n",
    "gold.fillna(0, inplace=True)\n",
    "\n",
    "# In ra DataFrame để kiểm tra kết quả\n",
    "print(gold)\n"
   ]
  },
  {
   "cell_type": "markdown",
   "metadata": {},
   "source": [
    "Chia tập train và tập test"
   ]
  },
  {
   "cell_type": "code",
   "execution_count": null,
   "metadata": {},
   "outputs": [],
   "source": []
  },
  {
   "cell_type": "markdown",
   "metadata": {},
   "source": [
    "Mô hình PROPHET"
   ]
  },
  {
   "cell_type": "code",
   "execution_count": 133,
   "metadata": {},
   "outputs": [],
   "source": [
    "# !conda install libpython m2w64-toolchain -c msys2"
   ]
  },
  {
   "cell_type": "code",
   "execution_count": 134,
   "metadata": {},
   "outputs": [],
   "source": [
    "# !pip install --upgrade wheel"
   ]
  },
  {
   "cell_type": "code",
   "execution_count": 135,
   "metadata": {},
   "outputs": [],
   "source": [
    "# !pip install pystan"
   ]
  },
  {
   "cell_type": "code",
   "execution_count": 136,
   "metadata": {},
   "outputs": [],
   "source": [
    "# !conda install -c conda-forge prophet"
   ]
  },
  {
   "cell_type": "code",
   "execution_count": 137,
   "metadata": {},
   "outputs": [
    {
     "name": "stdout",
     "output_type": "stream",
     "text": [
      "                   Open         High          Low        Close  Volume  \\\n",
      "Date                                                                     \n",
      "2022-03-01  1908.300049  1942.400024  1903.800049  1942.400024     547   \n",
      "2022-03-02  1945.599976  1948.199951  1919.800049  1920.900024     109   \n",
      "2022-03-03  1930.500000  1940.300049  1924.800049  1934.400024     122   \n",
      "2022-03-04  1937.000000  1970.900024  1935.599976  1965.099976      47   \n",
      "2022-03-07  1989.000000  2001.099976  1963.000000  1993.900024    2516   \n",
      "...                 ...          ...          ...          ...     ...   \n",
      "2024-04-15  2362.100098  2384.699951  2326.000000  2365.800049    1801   \n",
      "2024-04-16  2384.000000  2390.800049  2371.399902  2390.800049      41   \n",
      "2024-04-17  2384.199951  2391.399902  2369.300049  2371.699951      37   \n",
      "2024-04-18  2368.399902  2384.399902  2368.399902  2382.300049     128   \n",
      "2024-04-19  2379.300049  2399.800049  2377.300049  2398.399902     128   \n",
      "\n",
      "                 Date          MA7         MA25         MA99  \n",
      "Date                                                          \n",
      "2022-03-01 2022-03-01     0.000000     0.000000     0.000000  \n",
      "2022-03-02 2022-03-02     0.000000     0.000000     0.000000  \n",
      "2022-03-03 2022-03-03     0.000000     0.000000     0.000000  \n",
      "2022-03-04 2022-03-04     0.000000     0.000000     0.000000  \n",
      "2022-03-07 2022-03-07     0.000000     0.000000     0.000000  \n",
      "...               ...          ...          ...          ...  \n",
      "2024-04-15 2024-04-15  2343.900007  2236.015996  2086.605043  \n",
      "2024-04-16 2024-04-16  2353.200021  2244.347998  2090.639387  \n",
      "2024-04-17 2024-04-17  2358.914307  2252.800000  2094.479791  \n",
      "2024-04-18 2024-04-18  2364.457171  2261.076006  2098.319186  \n",
      "2024-04-19 2024-04-19  2374.285714  2270.492002  2102.224235  \n",
      "\n",
      "[539 rows x 9 columns]\n"
     ]
    }
   ],
   "source": [
    "import pandas as pd\n",
    "from prophet import Prophet\n",
    "import numpy as np\n",
    "import matplotlib.pyplot as plt\n",
    "df = gold\n",
    "\n",
    "\n",
    "def calculate_sar(df, acceleration=0.02, maximum=0.2):\n",
    "    high = df['High']\n",
    "    low = df['Low']\n",
    "    close = df['Close']\n",
    "    sar = pd.Series(index=df.index)\n",
    "    sar[0] = low[0]\n",
    "    trend = 0\n",
    "    ep = 0\n",
    "    af = acceleration\n",
    "    for i in range(1, len(df)):\n",
    "        if trend == 0:\n",
    "            if high[i - 1] > high[i] and low[i - 1] > low[i]:\n",
    "                trend = 1\n",
    "                sar[i] = low[i]\n",
    "                ep = high[i]\n",
    "                af = acceleration\n",
    "            elif high[i - 1] < high[i] and low[i - 1] < low[i]:\n",
    "                trend = -1\n",
    "                sar[i] = high[i]\n",
    "                ep = low[i]\n",
    "                af = acceleration\n",
    "        else:\n",
    "            if trend == 1:\n",
    "                if high[i] > ep:\n",
    "                    sar[i] = sar[i - 1] + af * (ep - sar[i - 1])\n",
    "                    sar[i] = min(sar[i], low[i - 1])\n",
    "                    ep = high[i]\n",
    "                    af = min(af + acceleration, maximum)\n",
    "                else:\n",
    "                    trend = -1\n",
    "                    sar[i] = ep\n",
    "                    sar[i] = min(sar[i], low[i - 1])\n",
    "                    sar[i] = min(sar[i], low[i])\n",
    "                    ep = low[i]\n",
    "                    af = acceleration\n",
    "            elif trend == -1:\n",
    "                if low[i] < ep:\n",
    "                    sar[i] = sar[i - 1] + af * (ep - sar[i - 1])\n",
    "                    sar[i] = max(sar[i], high[i - 1])\n",
    "                    ep = low[i]\n",
    "                    af = min(af + acceleration, maximum)\n",
    "                else:\n",
    "                    trend = 1\n",
    "                    sar[i] = ep\n",
    "                    sar[i] = max(sar[i], high[i - 1])\n",
    "                    sar[i] = max(sar[i], high[i])\n",
    "                    ep = high[i]\n",
    "                    af = acceleration\n",
    "    return sar\n",
    "# Load data\n",
    "# Replace 'your_data.csv' with your own data file\n",
    "df = gold\n",
    "print(df)\n",
    "# Preprocess data (fill missing values, convert types, etc.)\n",
    "# Replace any preprocessing steps here\n"
   ]
  },
  {
   "cell_type": "code",
   "execution_count": 138,
   "metadata": {},
   "outputs": [
    {
     "name": "stdout",
     "output_type": "stream",
     "text": [
      "                   ds            y\n",
      "Date                              \n",
      "2022-03-01 2022-03-01  1903.800049\n",
      "2022-03-02 2022-03-02  1948.199951\n",
      "2022-03-03 2022-03-03  1948.199951\n",
      "2022-03-04 2022-03-04  1924.800049\n",
      "2022-03-07 2022-03-07  1926.644048\n",
      "...               ...          ...\n",
      "2024-04-15 2024-04-15  2326.000000\n",
      "2024-04-16 2024-04-16  2390.800049\n",
      "2024-04-17 2024-04-17  2371.399902\n",
      "2024-04-18 2024-04-18  2368.399902\n",
      "2024-04-19 2024-04-19  2399.800049\n",
      "\n",
      "[539 rows x 2 columns]\n"
     ]
    },
    {
     "name": "stderr",
     "output_type": "stream",
     "text": [
      "C:\\Users\\My My\\AppData\\Local\\Temp\\ipykernel_31736\\729071449.py:12: FutureWarning: The default dtype for empty Series will be 'object' instead of 'float64' in a future version. Specify a dtype explicitly to silence this warning.\n",
      "  sar = pd.Series(index=df.index)\n"
     ]
    }
   ],
   "source": [
    "df['Parabolic_SAR'] = calculate_sar(df)\n",
    "df2=df.copy()\n",
    "df2['y']=df2['Parabolic_SAR']\n",
    "# Selecting relevant columns (Prophet requires a DataFrame with 'ds' and 'y' columns)\n",
    "df2 = df2[['Date','y']].rename(columns={'Date': 'ds'})\n",
    "print(df2)\n",
    "\n"
   ]
  },
  {
   "cell_type": "code",
   "execution_count": 139,
   "metadata": {},
   "outputs": [
    {
     "name": "stdout",
     "output_type": "stream",
     "text": [
      "539 0\n"
     ]
    }
   ],
   "source": [
    "X = df2[['ds','y']]\n",
    "y = df2['y']\n",
    "\n",
    "# Tạo một điểm chia dữ liệu giả định\n",
    "split_point = int(len(df2))  # 70% là tập huấn luyện\n",
    "\n",
    "# Chia dữ liệu thành tập huấn luyện và tập kiểm tra\n",
    "X_train, X_test = X[:split_point], X[split_point:]\n",
    "y_train, y_test = y[:split_point], y[split_point:]\n",
    "\n",
    "print(len(X_train), len(X_test))\n"
   ]
  },
  {
   "cell_type": "code",
   "execution_count": 140,
   "metadata": {},
   "outputs": [
    {
     "name": "stderr",
     "output_type": "stream",
     "text": [
      "17:27:47 - cmdstanpy - INFO - Chain [1] start processing\n",
      "17:27:47 - cmdstanpy - INFO - Chain [1] done processing\n"
     ]
    },
    {
     "data": {
      "text/plain": [
       "<prophet.forecaster.Prophet at 0x25ea4fd5ee0>"
      ]
     },
     "execution_count": 140,
     "metadata": {},
     "output_type": "execute_result"
    }
   ],
   "source": [
    "\n",
    "# Prophet model training\n",
    "prophet_model = Prophet()\n",
    "prophet_model.fit(df2)\n",
    "\n"
   ]
  },
  {
   "cell_type": "code",
   "execution_count": 141,
   "metadata": {},
   "outputs": [
    {
     "name": "stdout",
     "output_type": "stream",
     "text": [
      "Empty DataFrame\n",
      "Columns: [ds, y]\n",
      "Index: []\n"
     ]
    }
   ],
   "source": [
    "print(X_test)"
   ]
  },
  {
   "cell_type": "code",
   "execution_count": null,
   "metadata": {},
   "outputs": [],
   "source": []
  },
  {
   "cell_type": "code",
   "execution_count": 142,
   "metadata": {},
   "outputs": [
    {
     "name": "stdout",
     "output_type": "stream",
     "text": [
      "           ds        trend   yhat_lower   yhat_upper  trend_lower  \\\n",
      "0  2024-04-20  2208.047389  2203.470986  2274.753873  2208.047389   \n",
      "1  2024-04-21  2209.515716  2203.572618  2279.586426  2209.515716   \n",
      "2  2024-04-22  2210.984042  2306.074109  2379.138644  2210.984042   \n",
      "3  2024-04-23  2212.452368  2306.515278  2382.937215  2212.452368   \n",
      "4  2024-04-24  2213.920694  2314.827819  2383.536847  2213.920694   \n",
      "5  2024-04-25  2215.389021  2313.075226  2387.696630  2215.389021   \n",
      "6  2024-04-26  2216.857347  2312.715306  2387.922764  2216.857347   \n",
      "7  2024-04-27  2218.325673  2215.642804  2286.906248  2218.209208   \n",
      "8  2024-04-28  2219.794000  2216.123624  2285.956139  2219.417472   \n",
      "9  2024-04-29  2221.262326  2311.917174  2386.887530  2220.694972   \n",
      "10 2024-04-30  2222.730652  2310.394037  2384.374775  2222.020188   \n",
      "11 2024-05-01  2224.198978  2314.981111  2387.789514  2223.178418   \n",
      "12 2024-05-02  2225.667305  2311.001292  2387.494419  2224.223210   \n",
      "13 2024-05-03  2227.135631  2306.962795  2380.186916  2225.164655   \n",
      "14 2024-05-04  2228.603957  2209.697562  2283.117624  2226.296629   \n",
      "15 2024-05-05  2230.072284  2208.618174  2282.673231  2227.358531   \n",
      "16 2024-05-06  2231.540610  2305.239535  2378.336114  2228.409364   \n",
      "17 2024-05-07  2233.008936  2302.972126  2375.613774  2229.414911   \n",
      "18 2024-05-08  2234.477262  2302.173557  2376.203969  2230.465689   \n",
      "19 2024-05-09  2235.945589  2301.407993  2378.576992  2231.462683   \n",
      "20 2024-05-10  2237.413915  2299.169420  2374.452936  2232.380998   \n",
      "21 2024-05-11  2238.882241  2200.663249  2276.213376  2233.250518   \n",
      "22 2024-05-12  2240.350568  2202.062479  2275.878642  2234.345288   \n",
      "23 2024-05-13  2241.818894  2297.702433  2378.312428  2235.441162   \n",
      "24 2024-05-14  2243.287220  2296.262083  2374.717032  2236.436362   \n",
      "25 2024-05-15  2244.755546  2299.465194  2378.365591  2237.249835   \n",
      "26 2024-05-16  2246.223873  2301.638394  2380.211796  2238.369403   \n",
      "27 2024-05-17  2247.692199  2301.517353  2377.666870  2239.378742   \n",
      "28 2024-05-18  2249.160525  2204.642108  2285.545332  2240.045381   \n",
      "29 2024-05-19  2250.628852  2206.215983  2285.707664  2240.782486   \n",
      "\n",
      "    trend_upper  additive_terms  additive_terms_lower  additive_terms_upper  \\\n",
      "0   2208.047389       30.303474             30.303474             30.303474   \n",
      "1   2209.515716       32.453336             32.453336             32.453336   \n",
      "2   2210.984042      132.202763            132.202763            132.202763   \n",
      "3   2212.452368      132.401738            132.401738            132.401738   \n",
      "4   2213.920694      134.164235            134.164235            134.164235   \n",
      "5   2215.389021      135.311724            135.311724            135.311724   \n",
      "6   2216.932780      133.108598            133.108598            133.108598   \n",
      "7   2218.604841       33.816221             33.816221             33.816221   \n",
      "8   2220.228402       32.321642             32.321642             32.321642   \n",
      "9   2222.021603      128.605402            128.605402            128.605402   \n",
      "10  2223.784483      125.577564            125.577564            125.577564   \n",
      "11  2225.487278      124.405745            124.405745            124.405745   \n",
      "12  2227.444063      122.957407            122.957407            122.957407   \n",
      "13  2229.529510      118.534298            118.534298            118.534298   \n",
      "14  2231.395804       17.425743             17.425743             17.425743   \n",
      "15  2233.462762       14.536887             14.536887             14.536887   \n",
      "16  2235.360180      109.856289            109.856289            109.856289   \n",
      "17  2237.539438      106.292024            106.292024            106.292024   \n",
      "18  2239.449715      105.000043            105.000043            105.000043   \n",
      "19  2241.559853      103.827050            103.827050            103.827050   \n",
      "20  2243.539565      100.045754            100.045754            100.045754   \n",
      "21  2245.731974       -0.090821             -0.090821             -0.090821   \n",
      "22  2247.782544       -1.719916             -1.719916             -1.719916   \n",
      "23  2250.026979       95.099882             95.099882             95.099882   \n",
      "24  2252.109981       93.226137             93.226137             93.226137   \n",
      "25  2254.031271       93.762383             93.762383             93.762383   \n",
      "26  2256.094484       94.502466             94.502466             94.502466   \n",
      "27  2258.247683       92.667213             92.667213             92.667213   \n",
      "28  2260.305687       -5.539912             -5.539912             -5.539912   \n",
      "29  2262.494547       -5.302147             -5.302147             -5.302147   \n",
      "\n",
      "       weekly  weekly_lower  weekly_upper      yearly  yearly_lower  \\\n",
      "0  -70.314672    -70.314672    -70.314672  100.618146    100.618146   \n",
      "1  -70.314612    -70.314612    -70.314612  102.767948    102.767948   \n",
      "2   27.845621     27.845621     27.845621  104.357142    104.357142   \n",
      "3   27.019596     27.019596     27.019596  105.382142    105.382142   \n",
      "4   28.314302     28.314302     28.314302  105.849933    105.849933   \n",
      "5   29.533931     29.533931     29.533931  105.777792    105.777792   \n",
      "6   27.915834     27.915834     27.915834  105.192764    105.192764   \n",
      "7  -70.314672    -70.314672    -70.314672  104.130893    104.130893   \n",
      "8  -70.314612    -70.314612    -70.314612  102.636254    102.636254   \n",
      "9   27.845621     27.845621     27.845621  100.759781    100.759781   \n",
      "10  27.019596     27.019596     27.019596   98.557968     98.557968   \n",
      "11  28.314302     28.314302     28.314302   96.091443     96.091443   \n",
      "12  29.533931     29.533931     29.533931   93.423476     93.423476   \n",
      "13  27.915834     27.915834     27.915834   90.618464     90.618464   \n",
      "14 -70.314672    -70.314672    -70.314672   87.740416     87.740416   \n",
      "15 -70.314612    -70.314612    -70.314612   84.851499     84.851499   \n",
      "16  27.845621     27.845621     27.845621   82.010668     82.010668   \n",
      "17  27.019596     27.019596     27.019596   79.272428     79.272428   \n",
      "18  28.314302     28.314302     28.314302   76.685740     76.685740   \n",
      "19  29.533931     29.533931     29.533931   74.293118     74.293118   \n",
      "20  27.915834     27.915834     27.915834   72.129920     72.129920   \n",
      "21 -70.314672    -70.314672    -70.314672   70.223851     70.223851   \n",
      "22 -70.314612    -70.314612    -70.314612   68.594696     68.594696   \n",
      "23  27.845621     27.845621     27.845621   67.254261     67.254261   \n",
      "24  27.019596     27.019596     27.019596   66.206541     66.206541   \n",
      "25  28.314302     28.314302     28.314302   65.448081     65.448081   \n",
      "26  29.533931     29.533931     29.533931   64.968535     64.968535   \n",
      "27  27.915834     27.915834     27.915834   64.751378     64.751378   \n",
      "28 -70.314672    -70.314672    -70.314672   64.774760     64.774760   \n",
      "29 -70.314612    -70.314612    -70.314612   65.012465     65.012465   \n",
      "\n",
      "    yearly_upper  multiplicative_terms  multiplicative_terms_lower  \\\n",
      "0     100.618146                   0.0                         0.0   \n",
      "1     102.767948                   0.0                         0.0   \n",
      "2     104.357142                   0.0                         0.0   \n",
      "3     105.382142                   0.0                         0.0   \n",
      "4     105.849933                   0.0                         0.0   \n",
      "5     105.777792                   0.0                         0.0   \n",
      "6     105.192764                   0.0                         0.0   \n",
      "7     104.130893                   0.0                         0.0   \n",
      "8     102.636254                   0.0                         0.0   \n",
      "9     100.759781                   0.0                         0.0   \n",
      "10     98.557968                   0.0                         0.0   \n",
      "11     96.091443                   0.0                         0.0   \n",
      "12     93.423476                   0.0                         0.0   \n",
      "13     90.618464                   0.0                         0.0   \n",
      "14     87.740416                   0.0                         0.0   \n",
      "15     84.851499                   0.0                         0.0   \n",
      "16     82.010668                   0.0                         0.0   \n",
      "17     79.272428                   0.0                         0.0   \n",
      "18     76.685740                   0.0                         0.0   \n",
      "19     74.293118                   0.0                         0.0   \n",
      "20     72.129920                   0.0                         0.0   \n",
      "21     70.223851                   0.0                         0.0   \n",
      "22     68.594696                   0.0                         0.0   \n",
      "23     67.254261                   0.0                         0.0   \n",
      "24     66.206541                   0.0                         0.0   \n",
      "25     65.448081                   0.0                         0.0   \n",
      "26     64.968535                   0.0                         0.0   \n",
      "27     64.751378                   0.0                         0.0   \n",
      "28     64.774760                   0.0                         0.0   \n",
      "29     65.012465                   0.0                         0.0   \n",
      "\n",
      "    multiplicative_terms_upper         yhat  \n",
      "0                          0.0  2238.350863  \n",
      "1                          0.0  2241.969052  \n",
      "2                          0.0  2343.186804  \n",
      "3                          0.0  2344.854106  \n",
      "4                          0.0  2348.084930  \n",
      "5                          0.0  2350.700744  \n",
      "6                          0.0  2349.965945  \n",
      "7                          0.0  2252.141894  \n",
      "8                          0.0  2252.115641  \n",
      "9                          0.0  2349.867728  \n",
      "10                         0.0  2348.308217  \n",
      "11                         0.0  2348.604723  \n",
      "12                         0.0  2348.624712  \n",
      "13                         0.0  2345.669929  \n",
      "14                         0.0  2246.029701  \n",
      "15                         0.0  2244.609170  \n",
      "16                         0.0  2341.396899  \n",
      "17                         0.0  2339.300960  \n",
      "18                         0.0  2339.477305  \n",
      "19                         0.0  2339.772638  \n",
      "20                         0.0  2337.459669  \n",
      "21                         0.0  2238.791420  \n",
      "22                         0.0  2238.630652  \n",
      "23                         0.0  2336.918776  \n",
      "24                         0.0  2336.513357  \n",
      "25                         0.0  2338.517929  \n",
      "26                         0.0  2340.726339  \n",
      "27                         0.0  2340.359411  \n",
      "28                         0.0  2243.620613  \n",
      "29                         0.0  2245.326704  \n"
     ]
    },
    {
     "name": "stderr",
     "output_type": "stream",
     "text": [
      "C:\\Users\\My My\\AppData\\Local\\Temp\\ipykernel_31736\\1032537560.py:2: FutureWarning: Argument `closed` is deprecated in favor of `inclusive`.\n",
      "  future_dates = pd.date_range(start=X_train.index[-1], periods=n_days + 1, closed='right')  # Tạo các thời điểm trong khoảng thời gian mới\n"
     ]
    }
   ],
   "source": [
    "\n",
    "n_days = 30  # Số ngày muốn dự báo tiếp theo sau bộ kiểm tra\n",
    "future_dates = pd.date_range(start=X_train.index[-1], periods=n_days + 1, closed='right')  # Tạo các thời điểm trong khoảng thời gian mới\n",
    "\n",
    "future_df = pd.DataFrame({'ds': future_dates})\n",
    "\n",
    "# Sử dụng phương thức predict để dự báo cho các thời điểm mới\n",
    "forecast = prophet_model.predict(future_df)\n",
    "# print(X_train)\n",
    "print(forecast)"
   ]
  },
  {
   "cell_type": "code",
   "execution_count": 161,
   "metadata": {},
   "outputs": [
    {
     "data": {
      "image/png": "[encoded data removed]",
      "text/plain": [
       "<Figure size 1000x600 with 1 Axes>"
      ]
     },
     "metadata": {},
     "output_type": "display_data"
    }
   ],
   "source": [
    "prophet_model.plot(forecast[len(forecast)-30:])\n",
    "\n",
    "# Plot training data\n",
    "# plt.plot(X_train.index, df['Parabolic_SAR'], label='Train', color='green')\n",
    "\n",
    "plt.xlabel('Date')\n",
    "plt.ylabel('Close Price')\n",
    "plt.title('Forecasted Close Price vs Actual Close Price')\n",
    "plt.legend()\n",
    "plt.show()"
   ]
  },
  {
   "cell_type": "code",
   "execution_count": null,
   "metadata": {},
   "outputs": [
    {
     "name": "stdout",
     "output_type": "stream",
     "text": [
      "Mean Absolute Error (MAE): 22.8453975285953\n",
      "Mean Squared Error (MSE): 743.3386924729272\n",
      "Root Mean Squared Error (RMSE): 27.264238343898903\n"
     ]
    }
   ],
   "source": [
    "from sklearn.metrics import mean_absolute_error, mean_squared_error\n",
    "import numpy as np\n",
    "\n",
    "# Calculate Mean Absolute Error (MAE)\n",
    "mae = mean_absolute_error(y_test, forecast['yhat'])\n",
    "print(\"Mean Absolute Error (MAE):\", mae)\n",
    "\n",
    "# Calculate Mean Squared Error (MSE)\n",
    "mse = mean_squared_error(y_test, forecast['yhat'])\n",
    "print(\"Mean Squared Error (MSE):\", mse)\n",
    "\n",
    "# Calculate Root Mean Squared Error (RMSE)\n",
    "rmse = np.sqrt(mse)\n",
    "print(\"Root Mean Squared Error (RMSE):\", rmse)"
   ]
  },
  {
   "cell_type": "code",
   "execution_count": null,
   "metadata": {},
   "outputs": [
    {
     "name": "stdout",
     "output_type": "stream",
     "text": [
      "R-squared: 0.7671783837917944\n"
     ]
    }
   ],
   "source": [
    "y_true = X_test['y']\n",
    "y_pred = forecast['yhat']\n",
    "r_squared = r2_score(y_true, y_pred)\n",
    "\n",
    "print(\"R-squared:\", r_squared)"
   ]
  }
 ],
 "metadata": {
  "kernelspec": {
   "display_name": "base",
   "language": "python",
   "name": "python3"
  },
  "language_info": {
   "codemirror_mode": {
    "name": "ipython",
    "version": 3
   },
   "file_extension": ".py",
   "mimetype": "text/x-python",
   "name": "python",
   "nbconvert_exporter": "python",
   "pygments_lexer": "ipython3",
   "version": "3.9.13"
  },
  "orig_nbformat": 4
 },
 "nbformat": 4,
 "nbformat_minor": 2
}
